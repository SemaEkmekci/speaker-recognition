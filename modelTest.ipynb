{
 "cells": [
  {
   "cell_type": "code",
   "execution_count": 1,
   "id": "4a0d6155",
   "metadata": {},
   "outputs": [],
   "source": [
    "import tensorflow as tf\n",
    "from tensorflow import keras"
   ]
  },
  {
   "cell_type": "code",
   "execution_count": 2,
   "id": "d14d661e",
   "metadata": {},
   "outputs": [],
   "source": [
    "model_new = tf.keras.models.load_model(\"model.h5\")"
   ]
  },
  {
   "cell_type": "code",
   "execution_count": 3,
   "id": "4777bbec",
   "metadata": {
    "scrolled": false
   },
   "outputs": [
    {
     "name": "stdout",
     "output_type": "stream",
     "text": [
      "Model: \"model\"\n",
      "__________________________________________________________________________________________________\n",
      " Layer (type)                Output Shape                 Param #   Connected to                  \n",
      "==================================================================================================\n",
      " input (InputLayer)          [(None, 11025, 1)]           0         []                            \n",
      "                                                                                                  \n",
      " conv1d_1 (Conv1D)           (None, 11025, 16)            64        ['input[0][0]']               \n",
      "                                                                                                  \n",
      " activation (Activation)     (None, 11025, 16)            0         ['conv1d_1[0][0]']            \n",
      "                                                                                                  \n",
      " conv1d_2 (Conv1D)           (None, 11025, 16)            784       ['activation[0][0]']          \n",
      "                                                                                                  \n",
      " conv1d (Conv1D)             (None, 11025, 16)            32        ['input[0][0]']               \n",
      "                                                                                                  \n",
      " add (Add)                   (None, 11025, 16)            0         ['conv1d_2[0][0]',            \n",
      "                                                                     'conv1d[0][0]']              \n",
      "                                                                                                  \n",
      " activation_1 (Activation)   (None, 11025, 16)            0         ['add[0][0]']                 \n",
      "                                                                                                  \n",
      " max_pooling1d (MaxPooling1  (None, 5512, 16)             0         ['activation_1[0][0]']        \n",
      " D)                                                                                               \n",
      "                                                                                                  \n",
      " conv1d_4 (Conv1D)           (None, 5512, 32)             1568      ['max_pooling1d[0][0]']       \n",
      "                                                                                                  \n",
      " activation_2 (Activation)   (None, 5512, 32)             0         ['conv1d_4[0][0]']            \n",
      "                                                                                                  \n",
      " conv1d_5 (Conv1D)           (None, 5512, 32)             3104      ['activation_2[0][0]']        \n",
      "                                                                                                  \n",
      " conv1d_3 (Conv1D)           (None, 5512, 32)             544       ['max_pooling1d[0][0]']       \n",
      "                                                                                                  \n",
      " add_1 (Add)                 (None, 5512, 32)             0         ['conv1d_5[0][0]',            \n",
      "                                                                     'conv1d_3[0][0]']            \n",
      "                                                                                                  \n",
      " activation_3 (Activation)   (None, 5512, 32)             0         ['add_1[0][0]']               \n",
      "                                                                                                  \n",
      " max_pooling1d_1 (MaxPoolin  (None, 2756, 32)             0         ['activation_3[0][0]']        \n",
      " g1D)                                                                                             \n",
      "                                                                                                  \n",
      " conv1d_7 (Conv1D)           (None, 2756, 64)             6208      ['max_pooling1d_1[0][0]']     \n",
      "                                                                                                  \n",
      " activation_4 (Activation)   (None, 2756, 64)             0         ['conv1d_7[0][0]']            \n",
      "                                                                                                  \n",
      " conv1d_8 (Conv1D)           (None, 2756, 64)             12352     ['activation_4[0][0]']        \n",
      "                                                                                                  \n",
      " activation_5 (Activation)   (None, 2756, 64)             0         ['conv1d_8[0][0]']            \n",
      "                                                                                                  \n",
      " conv1d_9 (Conv1D)           (None, 2756, 64)             12352     ['activation_5[0][0]']        \n",
      "                                                                                                  \n",
      " conv1d_6 (Conv1D)           (None, 2756, 64)             2112      ['max_pooling1d_1[0][0]']     \n",
      "                                                                                                  \n",
      " add_2 (Add)                 (None, 2756, 64)             0         ['conv1d_9[0][0]',            \n",
      "                                                                     'conv1d_6[0][0]']            \n",
      "                                                                                                  \n",
      " activation_6 (Activation)   (None, 2756, 64)             0         ['add_2[0][0]']               \n",
      "                                                                                                  \n",
      " max_pooling1d_2 (MaxPoolin  (None, 1378, 64)             0         ['activation_6[0][0]']        \n",
      " g1D)                                                                                             \n",
      "                                                                                                  \n",
      " conv1d_11 (Conv1D)          (None, 1378, 128)            24704     ['max_pooling1d_2[0][0]']     \n",
      "                                                                                                  \n",
      " activation_7 (Activation)   (None, 1378, 128)            0         ['conv1d_11[0][0]']           \n",
      "                                                                                                  \n",
      " conv1d_12 (Conv1D)          (None, 1378, 128)            49280     ['activation_7[0][0]']        \n",
      "                                                                                                  \n",
      " activation_8 (Activation)   (None, 1378, 128)            0         ['conv1d_12[0][0]']           \n",
      "                                                                                                  \n",
      " conv1d_13 (Conv1D)          (None, 1378, 128)            49280     ['activation_8[0][0]']        \n",
      "                                                                                                  \n",
      " conv1d_10 (Conv1D)          (None, 1378, 128)            8320      ['max_pooling1d_2[0][0]']     \n",
      "                                                                                                  \n",
      " add_3 (Add)                 (None, 1378, 128)            0         ['conv1d_13[0][0]',           \n",
      "                                                                     'conv1d_10[0][0]']           \n",
      "                                                                                                  \n",
      " activation_9 (Activation)   (None, 1378, 128)            0         ['add_3[0][0]']               \n",
      "                                                                                                  \n",
      " max_pooling1d_3 (MaxPoolin  (None, 689, 128)             0         ['activation_9[0][0]']        \n",
      " g1D)                                                                                             \n",
      "                                                                                                  \n",
      " conv1d_15 (Conv1D)          (None, 689, 128)             49280     ['max_pooling1d_3[0][0]']     \n",
      "                                                                                                  \n",
      " activation_10 (Activation)  (None, 689, 128)             0         ['conv1d_15[0][0]']           \n",
      "                                                                                                  \n",
      " conv1d_16 (Conv1D)          (None, 689, 128)             49280     ['activation_10[0][0]']       \n",
      "                                                                                                  \n"
     ]
    },
    {
     "name": "stdout",
     "output_type": "stream",
     "text": [
      " activation_11 (Activation)  (None, 689, 128)             0         ['conv1d_16[0][0]']           \n",
      "                                                                                                  \n",
      " conv1d_17 (Conv1D)          (None, 689, 128)             49280     ['activation_11[0][0]']       \n",
      "                                                                                                  \n",
      " conv1d_14 (Conv1D)          (None, 689, 128)             16512     ['max_pooling1d_3[0][0]']     \n",
      "                                                                                                  \n",
      " add_4 (Add)                 (None, 689, 128)             0         ['conv1d_17[0][0]',           \n",
      "                                                                     'conv1d_14[0][0]']           \n",
      "                                                                                                  \n",
      " activation_12 (Activation)  (None, 689, 128)             0         ['add_4[0][0]']               \n",
      "                                                                                                  \n",
      " max_pooling1d_4 (MaxPoolin  (None, 344, 128)             0         ['activation_12[0][0]']       \n",
      " g1D)                                                                                             \n",
      "                                                                                                  \n",
      " average_pooling1d (Average  (None, 114, 128)             0         ['max_pooling1d_4[0][0]']     \n",
      " Pooling1D)                                                                                       \n",
      "                                                                                                  \n",
      " flatten (Flatten)           (None, 14592)                0         ['average_pooling1d[0][0]']   \n",
      "                                                                                                  \n",
      " dense (Dense)               (None, 256)                  3735808   ['flatten[0][0]']             \n",
      "                                                                                                  \n",
      " dense_1 (Dense)             (None, 128)                  32896     ['dense[0][0]']               \n",
      "                                                                                                  \n",
      " output (Dense)              (None, 5)                    645       ['dense_1[0][0]']             \n",
      "                                                                                                  \n",
      "==================================================================================================\n",
      "Total params: 4104405 (15.66 MB)\n",
      "Trainable params: 4104405 (15.66 MB)\n",
      "Non-trainable params: 0 (0.00 Byte)\n",
      "__________________________________________________________________________________________________\n"
     ]
    }
   ],
   "source": [
    "model_new.summary()"
   ]
  },
  {
   "cell_type": "code",
   "execution_count": 1,
   "id": "14054d37",
   "metadata": {},
   "outputs": [],
   "source": [
    "import pyaudio\n",
    "import wave"
   ]
  },
  {
   "cell_type": "code",
   "execution_count": 2,
   "id": "868fff41",
   "metadata": {},
   "outputs": [],
   "source": [
    "FORMAT = pyaudio.paInt16 # Ses formatı\n",
    "CHANNELS = 1 # Ses kanalı sayısı\n",
    "RATE = 16000 # Örnekleme hızı (Hz)\n",
    "CHUNK = 1024 # Her okumada alınacak ses parçası (bayt)\n",
    "RECORD_SECONDS = 3000 # Kayıt süresi (saniye)\n",
    "WAVE_FILE = \"kayit.wav\" # Kaydedilecek dosya adı"
   ]
  },
  {
   "cell_type": "code",
   "execution_count": null,
   "id": "f8cfcea7",
   "metadata": {},
   "outputs": [
    {
     "name": "stdout",
     "output_type": "stream",
     "text": [
      "Ses kaydı başladı...\n"
     ]
    }
   ],
   "source": [
    "# PyAudio nesnesi oluştur\n",
    "audio = pyaudio.PyAudio()\n",
    "\n",
    "# Ses akışını aç\n",
    "stream = audio.open(format=FORMAT, channels=CHANNELS,\n",
    "                rate=RATE, input=True,\n",
    "                frames_per_buffer=CHUNK)\n",
    "\n",
    "print(\"Ses kaydı başladı...\")\n",
    "\n",
    "# Ses verisini oku ve listeye ekle\n",
    "frames = []\n",
    "\n",
    "for i in range(0, int(RATE / CHUNK * RECORD_SECONDS)):\n",
    "    data = stream.read(CHUNK)\n",
    "    frames.append(data)\n",
    "\n",
    "print(\"Ses kaydı bitti.\")\n",
    "\n",
    "\n",
    "# Ses akışını kapat\n",
    "stream.stop_stream()\n",
    "stream.close()\n",
    "audio.terminate()\n",
    "\n",
    "# Ses verisini wav dosyasına yaz\n",
    "waveFile = wave.open(WAVE_FILE, 'wb')\n",
    "waveFile.setnchannels(CHANNELS)\n",
    "waveFile.setsampwidth(audio.get_sample_size(FORMAT))\n",
    "waveFile.setframerate(RATE)\n",
    "waveFile.writeframes(b''.join(frames))\n",
    "waveFile.close()"
   ]
  },
  {
   "cell_type": "code",
   "execution_count": 7,
   "id": "5c532eb8",
   "metadata": {},
   "outputs": [],
   "source": [
    "import numpy as np\n",
    "import librosa"
   ]
  },
  {
   "cell_type": "code",
   "execution_count": 8,
   "id": "30e12e67",
   "metadata": {},
   "outputs": [
    {
     "data": {
      "text/plain": [
       "'1.24.0'"
      ]
     },
     "execution_count": 8,
     "metadata": {},
     "output_type": "execute_result"
    }
   ],
   "source": [
    "np.__version__"
   ]
  },
  {
   "cell_type": "code",
   "execution_count": 14,
   "id": "023a4c62",
   "metadata": {},
   "outputs": [],
   "source": [
    "# Ön işleme adımlarını uygula\n",
    "y, sr = librosa.load(WAVE_FILE, sr=11025)\n",
    "y = librosa.util.normalize(y)\n",
    "mfccs = librosa.feature.mfcc(y=y, sr=sr, n_mfcc=40)\n",
    "\n",
    "# Veriyi girdi şekline dönüştür\n",
    "mfccs = np.expand_dims(mfccs, axis=0)  # Örnek sayısı boyutunu ekleyin\n",
    "mfccs = np.expand_dims(mfccs, axis=-1)  # Kanal boyutunu ekleyin"
   ]
  },
  {
   "cell_type": "code",
   "execution_count": 15,
   "id": "23add1ac",
   "metadata": {},
   "outputs": [
    {
     "ename": "ValueError",
     "evalue": "in user code:\n\n    File \"C:\\Users\\MUSTAFA\\anaconda3\\lib\\site-packages\\keras\\src\\engine\\training.py\", line 2341, in predict_function  *\n        return step_function(self, iterator)\n    File \"C:\\Users\\MUSTAFA\\anaconda3\\lib\\site-packages\\keras\\src\\engine\\training.py\", line 2327, in step_function  **\n        outputs = model.distribute_strategy.run(run_step, args=(data,))\n    File \"C:\\Users\\MUSTAFA\\anaconda3\\lib\\site-packages\\keras\\src\\engine\\training.py\", line 2315, in run_step  **\n        outputs = model.predict_step(data)\n    File \"C:\\Users\\MUSTAFA\\anaconda3\\lib\\site-packages\\keras\\src\\engine\\training.py\", line 2283, in predict_step\n        return self(x, training=False)\n    File \"C:\\Users\\MUSTAFA\\anaconda3\\lib\\site-packages\\keras\\src\\utils\\traceback_utils.py\", line 70, in error_handler\n        raise e.with_traceback(filtered_tb) from None\n    File \"C:\\Users\\MUSTAFA\\anaconda3\\lib\\site-packages\\keras\\src\\engine\\input_spec.py\", line 298, in assert_input_compatibility\n        raise ValueError(\n\n    ValueError: Input 0 of layer \"model\" is incompatible with the layer: expected shape=(None, 11025, 1), found shape=(None, 40, 64, 1)\n",
     "output_type": "error",
     "traceback": [
      "\u001b[1;31m---------------------------------------------------------------------------\u001b[0m",
      "\u001b[1;31mValueError\u001b[0m                                Traceback (most recent call last)",
      "Cell \u001b[1;32mIn[15], line 2\u001b[0m\n\u001b[0;32m      1\u001b[0m \u001b[38;5;66;03m# Modelden çıktı al\u001b[39;00m\n\u001b[1;32m----> 2\u001b[0m preds \u001b[38;5;241m=\u001b[39m \u001b[43mmodel_new\u001b[49m\u001b[38;5;241;43m.\u001b[39;49m\u001b[43mpredict\u001b[49m\u001b[43m(\u001b[49m\u001b[43mmfccs\u001b[49m\u001b[43m)\u001b[49m\n\u001b[0;32m      4\u001b[0m \u001b[38;5;66;03m# En yüksek olasılığa sahip sınıfı bul\u001b[39;00m\n\u001b[0;32m      5\u001b[0m class_index \u001b[38;5;241m=\u001b[39m np\u001b[38;5;241m.\u001b[39margmax(preds[\u001b[38;5;241m0\u001b[39m])\n",
      "File \u001b[1;32m~\\anaconda3\\lib\\site-packages\\keras\\src\\utils\\traceback_utils.py:70\u001b[0m, in \u001b[0;36mfilter_traceback.<locals>.error_handler\u001b[1;34m(*args, **kwargs)\u001b[0m\n\u001b[0;32m     67\u001b[0m     filtered_tb \u001b[38;5;241m=\u001b[39m _process_traceback_frames(e\u001b[38;5;241m.\u001b[39m__traceback__)\n\u001b[0;32m     68\u001b[0m     \u001b[38;5;66;03m# To get the full stack trace, call:\u001b[39;00m\n\u001b[0;32m     69\u001b[0m     \u001b[38;5;66;03m# `tf.debugging.disable_traceback_filtering()`\u001b[39;00m\n\u001b[1;32m---> 70\u001b[0m     \u001b[38;5;28;01mraise\u001b[39;00m e\u001b[38;5;241m.\u001b[39mwith_traceback(filtered_tb) \u001b[38;5;28;01mfrom\u001b[39;00m \u001b[38;5;28;01mNone\u001b[39;00m\n\u001b[0;32m     71\u001b[0m \u001b[38;5;28;01mfinally\u001b[39;00m:\n\u001b[0;32m     72\u001b[0m     \u001b[38;5;28;01mdel\u001b[39;00m filtered_tb\n",
      "File \u001b[1;32m~\\AppData\\Local\\Temp\\__autograph_generated_filey8ab26ud.py:15\u001b[0m, in \u001b[0;36mouter_factory.<locals>.inner_factory.<locals>.tf__predict_function\u001b[1;34m(iterator)\u001b[0m\n\u001b[0;32m     13\u001b[0m \u001b[38;5;28;01mtry\u001b[39;00m:\n\u001b[0;32m     14\u001b[0m     do_return \u001b[38;5;241m=\u001b[39m \u001b[38;5;28;01mTrue\u001b[39;00m\n\u001b[1;32m---> 15\u001b[0m     retval_ \u001b[38;5;241m=\u001b[39m ag__\u001b[38;5;241m.\u001b[39mconverted_call(ag__\u001b[38;5;241m.\u001b[39mld(step_function), (ag__\u001b[38;5;241m.\u001b[39mld(\u001b[38;5;28mself\u001b[39m), ag__\u001b[38;5;241m.\u001b[39mld(iterator)), \u001b[38;5;28;01mNone\u001b[39;00m, fscope)\n\u001b[0;32m     16\u001b[0m \u001b[38;5;28;01mexcept\u001b[39;00m:\n\u001b[0;32m     17\u001b[0m     do_return \u001b[38;5;241m=\u001b[39m \u001b[38;5;28;01mFalse\u001b[39;00m\n",
      "\u001b[1;31mValueError\u001b[0m: in user code:\n\n    File \"C:\\Users\\MUSTAFA\\anaconda3\\lib\\site-packages\\keras\\src\\engine\\training.py\", line 2341, in predict_function  *\n        return step_function(self, iterator)\n    File \"C:\\Users\\MUSTAFA\\anaconda3\\lib\\site-packages\\keras\\src\\engine\\training.py\", line 2327, in step_function  **\n        outputs = model.distribute_strategy.run(run_step, args=(data,))\n    File \"C:\\Users\\MUSTAFA\\anaconda3\\lib\\site-packages\\keras\\src\\engine\\training.py\", line 2315, in run_step  **\n        outputs = model.predict_step(data)\n    File \"C:\\Users\\MUSTAFA\\anaconda3\\lib\\site-packages\\keras\\src\\engine\\training.py\", line 2283, in predict_step\n        return self(x, training=False)\n    File \"C:\\Users\\MUSTAFA\\anaconda3\\lib\\site-packages\\keras\\src\\utils\\traceback_utils.py\", line 70, in error_handler\n        raise e.with_traceback(filtered_tb) from None\n    File \"C:\\Users\\MUSTAFA\\anaconda3\\lib\\site-packages\\keras\\src\\engine\\input_spec.py\", line 298, in assert_input_compatibility\n        raise ValueError(\n\n    ValueError: Input 0 of layer \"model\" is incompatible with the layer: expected shape=(None, 11025, 1), found shape=(None, 40, 64, 1)\n"
     ]
    }
   ],
   "source": [
    "# Modelden çıktı al\n",
    "preds = model_new.predict(mfccs)\n",
    "\n",
    "# En yüksek olasılığa sahip sınıfı bul\n",
    "class_index = np.argmax(preds[0])\n",
    "class_names = ['jackson', 'nicolas', 'theo', 'yweweler'] # Sınıf isimleri (dökümana göre)\n",
    "predicted_class = class_names[class_index]\n",
    "\n",
    "# Sonucu ekrana yazdır\n",
    "print(\"Tahmin edilen sınıf:\", predicted_class)"
   ]
  },
  {
   "cell_type": "code",
   "execution_count": null,
   "id": "2118bdb6",
   "metadata": {},
   "outputs": [],
   "source": []
  }
 ],
 "metadata": {
  "kernelspec": {
   "display_name": "Python 3 (ipykernel)",
   "language": "python",
   "name": "python3"
  },
  "language_info": {
   "codemirror_mode": {
    "name": "ipython",
    "version": 3
   },
   "file_extension": ".py",
   "mimetype": "text/x-python",
   "name": "python",
   "nbconvert_exporter": "python",
   "pygments_lexer": "ipython3",
   "version": "3.10.9"
  }
 },
 "nbformat": 4,
 "nbformat_minor": 5
}
